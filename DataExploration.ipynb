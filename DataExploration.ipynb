{
  "nbformat": 4,
  "nbformat_minor": 0,
  "metadata": {
    "colab": {
      "name": "Data Storytelling Project.ipynb",
      "provenance": [],
      "collapsed_sections": [],
      "authorship_tag": "ABX9TyOPEZH0VzsynCp+8WhYirzR",
      "include_colab_link": true
    },
    "kernelspec": {
      "name": "python3",
      "display_name": "Python 3"
    }
  },
  "cells": [
    {
      "cell_type": "markdown",
      "metadata": {
        "id": "view-in-github",
        "colab_type": "text"
      },
      "source": [
        "<a href=\"https://colab.research.google.com/github/ThomasFJones/ASL-Analysis/blob/main/Data_Storytelling_Project.ipynb\" target=\"_parent\"><img src=\"https://colab.research.google.com/assets/colab-badge.svg\" alt=\"Open In Colab\"/></a>"
      ]
    },
    {
      "cell_type": "code",
      "metadata": {
        "id": "hG7G7I3TCIJN"
      },
      "source": [
        ""
      ],
      "execution_count": null,
      "outputs": []
    },
    {
      "cell_type": "code",
      "metadata": {
        "id": "Gsvf35Vro_mz"
      },
      "source": [
        "#Importing Libraries\n",
        "\n",
        "import pandas as pd\n",
        "import numpy as np\n",
        "import matplotlib.pyplot as plt\n",
        "import seaborn as sns"
      ],
      "execution_count": null,
      "outputs": []
    },
    {
      "cell_type": "code",
      "metadata": {
        "id": "PYjLg9P29Thy"
      },
      "source": [
        "\n",
        "# !rm shotlength.csv\n",
        "# For uploading files if needed.\n",
        "# from google.colab import files\n",
        "# uploaded = files.upload()\n"
      ],
      "execution_count": 57,
      "outputs": []
    },
    {
      "cell_type": "code",
      "metadata": {
        "id": "GeulqeHiyMIZ"
      },
      "source": [
        "#Import Data\n",
        "shot_l = pd.read_csv('https://raw.githubusercontent.com/ThomasFJones/ASL-Analysis/main/shotlength.csv')\n",
        "imdb_movie = pd.read_csv('http://whynoidonthaveadegree.com/datasets/IMDb_movies.csv', low_memory=False)\n"
      ],
      "execution_count": null,
      "outputs": []
    },
    {
      "cell_type": "code",
      "metadata": {
        "id": "8ZcfvqL8-IUh"
      },
      "source": [
        "#Data Cleaning - Trailing spaces must be removed"
      ],
      "execution_count": null,
      "outputs": []
    },
    {
      "cell_type": "code",
      "metadata": {
        "id": "PcuO9eLErnJZ"
      },
      "source": [
        "shot_l['Country'] = shot_l['Country'].str.rstrip()\n",
        "shot_l['Title'] = shot_l['Title'].str.rstrip()\n",
        "\n"
      ],
      "execution_count": null,
      "outputs": []
    },
    {
      "cell_type": "code",
      "metadata": {
        "id": "_m2lC1A44NSr"
      },
      "source": [
        "# Singling out USA data and removing unneeded data.\n",
        "shot_usa = shot_l.loc[shot_l['Country'] == 'USA']\n",
        "slim_usa = shot_usa.drop(columns = ['Title','Director'])"
      ],
      "execution_count": null,
      "outputs": []
    },
    {
      "cell_type": "code",
      "metadata": {
        "id": "yQtWRbwyrwCg"
      },
      "source": [
        "# See if shotlength and imdb can be merged\n",
        "\n",
        "##print(shot_usa.shape)\n",
        "##print(imdb_movie.shape)\n",
        "##imdb_movie.rename(columns = {'title':'Title'}, inplace = True)\n",
        "##mergetest = pd.merge(shot_usa, imdb_movie, on = ['Title'], how = 'inner' )\n",
        "##print(mergetest.shape)"
      ],
      "execution_count": null,
      "outputs": []
    },
    {
      "cell_type": "code",
      "metadata": {
        "id": "oTY5lL1lH26A",
        "colab": {
          "base_uri": "https://localhost:8080/",
          "height": 266
        },
        "outputId": "f5e97824-7b04-403f-a848-67698cd6db24"
      },
      "source": [
        "# This was just a first attempt to get a sense of the data\n",
        "#print(slim_usa['ASL'].loc[(slim_usa['Year'] >= 1940) & (slim_usa['Year'] <= 1949)].std())\n",
        "#print(slim_usa['ASL'].loc[(slim_usa['Year'] >= 1950) & (slim_usa['Year'] <= 1959)].std())\n",
        "#print(slim_usa['ASL'].loc[(slim_usa['Year'] >= 1960) & (slim_usa['Year'] <= 1969)].std())\n",
        "#print(slim_usa['ASL'].loc[(slim_usa['Year'] >= 1970) & (slim_usa['Year'] <= 1979)].std())\n",
        "#print(slim_usa['ASL'].loc[(slim_usa['Year'] >= 1980) & (slim_usa['Year'] <= 1989)].std())\n",
        "#print(slim_usa['ASL'].loc[(slim_usa['Year'] >= 1990) & (slim_usa['Year'] <= 1999)].std())\n",
        "#print(slim_usa['ASL'].loc[(slim_usa['Year'] >= 2000) & (slim_usa['Year'] <= 2009)].std())\n",
        "\n",
        "\n",
        "#print(slim_usa.loc[slim_usa['Year'] == 1950].mean())\n",
        "#print(slim_usa.loc[slim_usa['Year'] == 1960].mean())\n",
        "#print(slim_usa.loc[slim_usa['Year'] == 1970].mean())\n",
        "#print(slim_usa.loc[slim_usa['Year'] == 1980].mean())\n",
        "#print(slim_usa.loc[slim_usa['Year'] == 1990].mean())\n",
        "#print(slim_usa.loc[slim_usa['Year'] == 2000].mean())\n",
        "#print(slim_usa.loc[slim_usa['Year'] == 2010].mean())\n",
        "\n",
        "##for index, row in slim_usa.iterrows():\n",
        "##  print(slim_usa['Year'])\n",
        "## 1950 1950\t10.944189\t3.693085\n",
        "graph_ready = slim_usa.groupby(['Year']).agg(['mean','std'])\n",
        "graph_ready.head(5)\n",
        "\n"
      ],
      "execution_count": 137,
      "outputs": [
        {
          "output_type": "execute_result",
          "data": {
            "text/html": [
              "<div>\n",
              "<style scoped>\n",
              "    .dataframe tbody tr th:only-of-type {\n",
              "        vertical-align: middle;\n",
              "    }\n",
              "\n",
              "    .dataframe tbody tr th {\n",
              "        vertical-align: top;\n",
              "    }\n",
              "\n",
              "    .dataframe thead tr th {\n",
              "        text-align: left;\n",
              "    }\n",
              "\n",
              "    .dataframe thead tr:last-of-type th {\n",
              "        text-align: right;\n",
              "    }\n",
              "</style>\n",
              "<table border=\"1\" class=\"dataframe\">\n",
              "  <thead>\n",
              "    <tr>\n",
              "      <th></th>\n",
              "      <th colspan=\"2\" halign=\"left\">ASL</th>\n",
              "    </tr>\n",
              "    <tr>\n",
              "      <th></th>\n",
              "      <th>mean</th>\n",
              "      <th>std</th>\n",
              "    </tr>\n",
              "    <tr>\n",
              "      <th>Year</th>\n",
              "      <th></th>\n",
              "      <th></th>\n",
              "    </tr>\n",
              "  </thead>\n",
              "  <tbody>\n",
              "    <tr>\n",
              "      <th>1913</th>\n",
              "      <td>9.300000</td>\n",
              "      <td>2.251666</td>\n",
              "    </tr>\n",
              "    <tr>\n",
              "      <th>1914</th>\n",
              "      <td>12.616667</td>\n",
              "      <td>6.018444</td>\n",
              "    </tr>\n",
              "    <tr>\n",
              "      <th>1915</th>\n",
              "      <td>12.129412</td>\n",
              "      <td>3.710250</td>\n",
              "    </tr>\n",
              "    <tr>\n",
              "      <th>1916</th>\n",
              "      <td>8.084615</td>\n",
              "      <td>1.537230</td>\n",
              "    </tr>\n",
              "    <tr>\n",
              "      <th>1917</th>\n",
              "      <td>6.965000</td>\n",
              "      <td>1.967171</td>\n",
              "    </tr>\n",
              "  </tbody>\n",
              "</table>\n",
              "</div>"
            ],
            "text/plain": [
              "            ASL          \n",
              "           mean       std\n",
              "Year                     \n",
              "1913   9.300000  2.251666\n",
              "1914  12.616667  6.018444\n",
              "1915  12.129412  3.710250\n",
              "1916   8.084615  1.537230\n",
              "1917   6.965000  1.967171"
            ]
          },
          "metadata": {
            "tags": []
          },
          "execution_count": 137
        }
      ]
    },
    {
      "cell_type": "code",
      "metadata": {
        "id": "EH8sukO6_wzb"
      },
      "source": [
        ""
      ],
      "execution_count": 136,
      "outputs": []
    }
  ]
}
